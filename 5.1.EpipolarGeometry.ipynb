{
 "cells": [
  {
   "cell_type": "code",
   "execution_count": 1,
   "metadata": {
    "collapsed": false
   },
   "outputs": [
    {
     "data": {
      "text/plain": [
       "<matplotlib.image.AxesImage at 0x83332e8>"
      ]
     },
     "execution_count": 1,
     "metadata": {},
     "output_type": "execute_result"
    }
   ],
   "source": [
    "import camera\n",
    "from numpy import *\n",
    "from PIL import Image\n",
    "from pylab import *\n",
    "from scipy import *\n",
    "\n",
    "img1=Image.open('images/001.jpg')\n",
    "figure()\n",
    "imshow(img1)"
   ]
  },
  {
   "cell_type": "code",
   "execution_count": 11,
   "metadata": {
    "collapsed": false
   },
   "outputs": [
    {
     "name": "stdout",
     "output_type": "stream",
     "text": [
      "points 2D\n",
      "[array([[ 718.79 ,  676.587,  675.319, ...,  479.229,  475.771,  474.916],\n",
      "       [ 263.096,  424.715,  394.656, ...,  441.16 ,  429.052,  419.315]]), array([[ 689.792,  688.621,  951.71 , ...,  470.376,  466.728,  466.172],\n",
      "       [ 460.223,  428.371,  438.48 , ...,  475.694,  462.309,  452.315]]), array([[ 755.058,  969.715,  748.762, ...,  501.171,  497.93 ,  497.132],\n",
      "       [ 302.399,  462.839,  125.158, ...,  501.598,  487.109,  478.137]])]\n",
      "Points 3D\n",
      "[[ 3.7585792   1.0378863   1.5606923  ...,  2.7471349   0.73672803\n",
      "   0.97395698]\n",
      " [-0.44845037 -0.54627892 -0.5211711  ...,  1.4925585   0.6206597\n",
      "   0.64403613]\n",
      " [ 4.4300374   3.4601538   3.4636809  ...,  0.00678837 -0.17002507\n",
      "  -0.23360821]]\n",
      "corr\n",
      "[[  0  -1   0]\n",
      " [  1   0  -1]\n",
      " [  2   1  -1]\n",
      " ..., \n",
      " [639 665 511]\n",
      " [640 666 512]\n",
      " [641 667 513]]\n",
      "P\n",
      "[<camera.Camera object at 0x0000000007D746D8>, <camera.Camera object at 0x00000000065BE8D0>, <camera.Camera object at 0x0000000009C756D8>]\n"
     ]
    }
   ],
   "source": [
    "import camera\n",
    "from numpy import *\n",
    "from PIL import Image\n",
    "from pylab import *\n",
    "from scipy import *\n",
    "\n",
    "# load some images\n",
    "im1 = array(Image.open('images/001.jpg'))\n",
    "im2 = array(Image.open('images/002.jpg'))\n",
    "\n",
    "# load 2D points for each view to a list\n",
    "points2D = [loadtxt('2D/00'+str(i+1)+'.corners').T for i in range(3)]\n",
    "print 'points 2D'; print points2D\n",
    "\n",
    "# load 3D points\n",
    "points3D = loadtxt('3D/p3d').T\n",
    "print'Points 3D'; print points3D\n",
    "\n",
    "# load correspondences\n",
    "corr = genfromtxt('2D/nview-corners',dtype='int',missing_values='*')\n",
    "print 'corr'; print corr\n",
    "\n",
    "# load cameras to a list of Camera objects (ma tran P cua tung Camera)\n",
    "P = [camera.Camera(loadtxt('2D/00'+str(i+1)+'.P')) for i in range(3)]\n",
    "print 'P'; print P"
   ]
  },
  {
   "cell_type": "code",
   "execution_count": 15,
   "metadata": {
    "collapsed": false
   },
   "outputs": [
    {
     "data": {
      "text/plain": [
       "(-0.5, 1023.5, 767.5, -0.5)"
      ]
     },
     "execution_count": 15,
     "metadata": {},
     "output_type": "execute_result"
    }
   ],
   "source": [
    "import camera\n",
    "from numpy import *\n",
    "from PIL import Image\n",
    "from pylab import *\n",
    "from scipy import *\n",
    "\n",
    "execfile('load_vggdata.py')\n",
    "\n",
    "# make 3D points homogeneous and project\n",
    "X = vstack( (points3D,ones(points3D.shape[1])) )\n",
    "x = P[0].project(X)\n",
    "\n",
    "# plotting the points in view 1\n",
    "figure()\n",
    "imshow(im1)\n",
    "plot(points2D[0][0],points2D[0][1],'*')\n",
    "axis('off')\n",
    "figure()\n",
    "imshow(im1)\n",
    "plot(x[0],x[1],'r.')\n",
    "axis('off')"
   ]
  }
 ],
 "metadata": {
  "kernelspec": {
   "display_name": "Python 2",
   "language": "python",
   "name": "python2"
  },
  "language_info": {
   "codemirror_mode": {
    "name": "ipython",
    "version": 2
   },
   "file_extension": ".py",
   "mimetype": "text/x-python",
   "name": "python",
   "nbconvert_exporter": "python",
   "pygments_lexer": "ipython2",
   "version": "2.7.13"
  }
 },
 "nbformat": 4,
 "nbformat_minor": 2
}
